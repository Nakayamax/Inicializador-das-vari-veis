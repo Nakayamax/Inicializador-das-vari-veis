{
 "cells": [
  {
   "cell_type": "code",
   "execution_count": 21,
   "id": "35cc4015-711d-477e-a50b-acd05c69671a",
   "metadata": {},
   "outputs": [
    {
     "name": "stdin",
     "output_type": "stream",
     "text": [
      "Digite sua idade:  21\n",
      "Digite sua altura:  1.60\n",
      "Digite o seu nome:  gaby\n",
      "Digite sua renda mensal:  5900.00\n"
     ]
    },
    {
     "name": "stdout",
     "output_type": "stream",
     "text": [
      "Idade digitada: 21\n",
      "Altura digitada: 1.6\n",
      "Nome digitado: gaby\n",
      "Renda mensal digitada: 5900.0\n"
     ]
    }
   ],
   "source": [
    "# Inicialização das variáveis\n",
    "idade = 0\n",
    "altura = 0.0\n",
    "nome = \"\"\n",
    "renda_mensal = 0.1  \n",
    "\n",
    "# Coleta de dados do usuário\n",
    "idade = int(input(\"Digite sua idade: \"))\n",
    "altura = float(input(\"Digite sua altura: \"))\n",
    "nome = input(\"Digite o seu nome: \")\n",
    "renda_mensal = float(input(\"Digite sua renda mensal: \"))  \n",
    "\n",
    "# Exibição dos dados coletados\n",
    "print(\"Idade digitada:\", idade)\n",
    "print(\"Altura digitada:\", altura)\n",
    "print(\"Nome digitado:\", nome)\n",
    "print(\"Renda mensal digitada:\", renda_mensal)\n"
   ]
  },
  {
   "cell_type": "code",
   "execution_count": null,
   "id": "aafbf248-7791-4a81-926f-6ef9acb8da24",
   "metadata": {},
   "outputs": [],
   "source": []
  },
  {
   "cell_type": "code",
   "execution_count": 50,
   "id": "d6d250c5-00c2-46ff-a9be-9c2255ff0377",
   "metadata": {},
   "outputs": [
    {
     "name": "stdin",
     "output_type": "stream",
     "text": [
      "Digite sua idade:  21\n",
      "Digite seu nome:  gaby\n",
      "Digite seu salário:  6000.00\n",
      "Você é brasileiro? (Digite 'sim' para sim ou 'não' para não):  sim\n"
     ]
    },
    {
     "name": "stdout",
     "output_type": "stream",
     "text": [
      "Idade digitada: 21\n",
      "Nome digitado: gaby\n",
      "Salário digitado: R$ 6000.00\n",
      "Brasileiro: Sim\n"
     ]
    }
   ],
   "source": [
    "# Coleta de dados do usuário\n",
    "idade = int(input(\"Digite sua idade: \"))\n",
    "nome = input(\"Digite seu nome: \")\n",
    "salario = float(input(\"Digite seu salário: \"))\n",
    "resposta = input(\"Você é brasileiro? (Digite 'sim' para sim ou 'não' para não): \").strip().lower()\n",
    "\n",
    "# Converter a resposta para booleano\n",
    "brasileiro = resposta == 'sim'\n",
    "\n",
    "# Exibição dos dados\n",
    "print(f\"Idade digitada: {idade}\")\n",
    "print(f\"Nome digitado: {nome}\")\n",
    "print(f\"Salário digitado: R$ {salario:.2f}\")\n",
    "print(f\"Brasileiro: {'Sim' if brasileiro else 'Não'}\")\n",
    "\n"
   ]
  },
  {
   "cell_type": "code",
   "execution_count": null,
   "id": "a3857f9b-f2f1-4aff-b07e-1f4f0965c7e9",
   "metadata": {},
   "outputs": [],
   "source": []
  }
 ],
 "metadata": {
  "kernelspec": {
   "display_name": "Python 3 (ipykernel)",
   "language": "python",
   "name": "python3"
  },
  "language_info": {
   "codemirror_mode": {
    "name": "ipython",
    "version": 3
   },
   "file_extension": ".py",
   "mimetype": "text/x-python",
   "name": "python",
   "nbconvert_exporter": "python",
   "pygments_lexer": "ipython3",
   "version": "3.12.4"
  }
 },
 "nbformat": 4,
 "nbformat_minor": 5
}
